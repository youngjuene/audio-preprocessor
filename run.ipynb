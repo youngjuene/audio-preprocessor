{
 "cells": [
  {
   "cell_type": "code",
   "execution_count": 1,
   "id": "27f3ec3e-bdaf-47f9-8e74-1c5bc82de4e7",
   "metadata": {},
   "outputs": [],
   "source": [
    "import os\n",
    "from audio_processor import AudioProcessor\n",
    "from audio_visualizer import AudioVisualizer, visualize_time_frequency_3d\n",
    "from audio_comparator import AudioComparator\n",
    "from tqdm import tqdm\n",
    "\n",
    "import os\n",
    "import librosa\n",
    "import numpy as np\n",
    "import matplotlib.pyplot as plt\n",
    "from mpl_toolkits.mplot3d import Axes3D"
   ]
  },
  {
   "cell_type": "code",
   "execution_count": 2,
   "id": "cfc57a18-3462-493c-b4d3-0051a5f72b29",
   "metadata": {},
   "outputs": [],
   "source": [
    "sample_dir = './sample'\n",
    "processed_dir = './processed_audio'\n",
    "visualized_dir = './visualized_plots'\n",
    "compared_dir = './compared_plots'\n",
    "\n",
    "# Create directories if they don't exist\n",
    "os.makedirs(processed_dir, exist_ok=True)\n",
    "os.makedirs(visualized_dir, exist_ok=True)\n",
    "os.makedirs(compared_dir, exist_ok=True)\n",
    "\n",
    "# Initialize the audio processor, visualizer, and comparator\n",
    "processor = AudioProcessor(sample_dir, processed_dir, visualized_dir, compared_dir)\n",
    "visualizer = AudioVisualizer(visualized_dir)\n",
    "comparator = AudioComparator(compared_dir)"
   ]
  },
  {
   "cell_type": "code",
   "execution_count": 5,
   "id": "f8eb152a-df5c-470a-95df-4062649ba2b1",
   "metadata": {},
   "outputs": [],
   "source": [
    "sample_number = 337721  # 422262\n",
    "\n",
    "# Load the audio files based on the sample number\n",
    "audio_files = [file for file in os.listdir(sample_dir) if file.startswith(str(sample_number))]"
   ]
  },
  {
   "cell_type": "code",
   "execution_count": 6,
   "id": "d6241346-8708-42c6-a61b-39878789326a",
   "metadata": {},
   "outputs": [
    {
     "name": "stdout",
     "output_type": "stream",
     "text": [
      "Adding noise to audio...\n"
     ]
    },
    {
     "name": "stderr",
     "output_type": "stream",
     "text": [
      "100%|████████████████████████████████████████████████████████████████████████████████████████████| 4/4 [00:00<00:00, 41.04it/s]\n"
     ]
    }
   ],
   "source": [
    "# Add white noise with different SNR levels\n",
    "snr_levels = [10, 20, 30]\n",
    "noisy_audios = []\n",
    "print(\"Adding noise to audio...\")\n",
    "for audio_file in tqdm(audio_files):\n",
    "    original_audio, sr = processor.load_audio(audio_file)\n",
    "    for snr_db in snr_levels:\n",
    "        file_name = f'{os.path.splitext(audio_file)[0]}_snr{snr_db}.wav'\n",
    "        file_path = os.path.join(processed_dir, file_name)\n",
    "        if os.path.exists(file_path):\n",
    "            print(f\"Skipping {file_name} as it already exists.\")\n",
    "            noisy_audio, _ = processor.load_audio(file_name, directory=processed_dir)  # Pass the directory argument\n",
    "            noisy_audios.append((noisy_audio, sr, file_name))\n",
    "        else:\n",
    "            noisy_audio = processor.add_noise(original_audio, snr_db)\n",
    "            processor.save_audio(noisy_audio, sr, file_name)\n",
    "            noisy_audios.append((noisy_audio, sr, file_name))"
   ]
  },
  {
   "cell_type": "code",
   "execution_count": 5,
   "id": "2136ec4b-77ff-470a-99e4-dc9b06227713",
   "metadata": {},
   "outputs": [
    {
     "name": "stdout",
     "output_type": "stream",
     "text": [
      "Visualizing audio files...\n"
     ]
    }
   ],
   "source": [
    "print(\"Visualizing audio files...\")\n",
    "# Load the audio files based on the sample number\n",
    "sample_files = [file for file in os.listdir(sample_dir) if file.startswith(str(sample_number))]\n",
    "processed_files = [file for file in os.listdir(processed_dir) if file.startswith(str(sample_number))]\n",
    "\n",
    "# Find the original audio file\n",
    "original_audio_file = [file for file in sample_files if '_snr' not in file][0]\n",
    "original_audio, sr = librosa.load(os.path.join(sample_dir, original_audio_file), sr=None)\n",
    "\n",
    "# Find the snr30, snr20, and snr10 audio files\n",
    "snr30_audio_file = [file for file in processed_files if file.endswith('_snr30.wav')][0]\n",
    "snr30_audio, _ = librosa.load(os.path.join(processed_dir, snr30_audio_file), sr=sr)\n",
    "\n",
    "snr20_audio_file = [file for file in processed_files if file.endswith('_snr20.wav')][0]\n",
    "snr20_audio, _ = librosa.load(os.path.join(processed_dir, snr20_audio_file), sr=sr)\n",
    "\n",
    "snr10_audio_file = [file for file in processed_files if file.endswith('_snr10.wav')][0]\n",
    "snr10_audio, _ = librosa.load(os.path.join(processed_dir, snr10_audio_file), sr=sr)\n",
    "\n",
    "# Create the list of audio arrays and sample rates\n",
    "audios = [original_audio, snr30_audio, snr20_audio, snr10_audio]\n",
    "srs = [sr, sr, sr, sr]\n",
    "\n",
    "\n",
    "visualizer.visualize_audio(audios, srs, f'compare_SNR_{sample_number}')"
   ]
  },
  {
   "cell_type": "markdown",
   "id": "676538c9-d4c6-4022-bf72-d6ccb7981c62",
   "metadata": {},
   "source": [
    "# Issue: SNR masks out high frequency components"
   ]
  },
  {
   "cell_type": "code",
   "execution_count": 14,
   "id": "632ce692-c185-4179-900b-ef7afde670c5",
   "metadata": {},
   "outputs": [],
   "source": [
    "# Compare the audios for each SNR level and IR\n",
    "print(\"Comparing audios...\")\n",
    "for snr_db in tqdm(snr_levels):\n",
    "    comparison_files = []\n",
    "    for audio_file in audio_files:\n",
    "        if f'{sample_number}' in audio_file:\n",
    "            original_audio, sr = processor.load_audio(audio_file)\n",
    "            comparison_files.append((original_audio, sr, audio_file))\n",
    "            for noisy_audio, sr, noisy_file_name in noisy_audios:\n",
    "                if f'snr{snr_db}' in noisy_file_name and os.path.splitext(audio_file)[0] in noisy_file_name:\n",
    "                    comparison_files.append((noisy_audio, sr, noisy_file_name))\n",
    "    comparator.compare_audio(comparison_files, f'sample_{sample_number}_snr{snr_db}')"
   ]
  },
  {
   "cell_type": "code",
   "execution_count": 5,
   "id": "f1e3991c-88ef-4b7a-82f3-b3513871224a",
   "metadata": {},
   "outputs": [],
   "source": [
    "fig = plt.figure(figsize=(10, 8))\n",
    "ax = fig.add_subplot(111, projection='3d')\n",
    "\n",
    "# Visualize the time-frequency analysis and save the plot\n",
    "audio_file = './sample/422262.wav'\n",
    "visualize_time_frequency_3d(audio_file, sr=22050, ax=ax)"
   ]
  },
  {
   "cell_type": "code",
   "execution_count": 7,
   "id": "2f8b7514-0eaf-4c2c-b9de-f329d099e24a",
   "metadata": {},
   "outputs": [],
   "source": [
    "import glob\n",
    "ls = glob.glob('./sample/*') + glob.glob('./processed_audio/*')\n",
    "for i in ls:\n",
    "    fig = plt.figure(figsize=(10, 8))\n",
    "    ax = fig.add_subplot(111, projection='3d')\n",
    "\n",
    "    # Visualize the time-frequency analysis and save the plot\n",
    "    audio_file = i\n",
    "    visualize_time_frequency_3d(audio_file, sr=22050, ax=ax)"
   ]
  },
  {
   "cell_type": "code",
   "execution_count": null,
   "id": "9ae42211-47e3-4307-b8a8-1879d5b6af45",
   "metadata": {},
   "outputs": [],
   "source": []
  },
  {
   "cell_type": "markdown",
   "id": "fc7bd9ed-70c8-444f-a265-f8a63ff70216",
   "metadata": {},
   "source": [
    "# Visualize original, convolved audios' mel-spectrogram"
   ]
  },
  {
   "cell_type": "code",
   "execution_count": null,
   "id": "1ccac1f9-c895-48f2-8412-c8e0264ccbbf",
   "metadata": {},
   "outputs": [],
   "source": []
  },
  {
   "cell_type": "markdown",
   "id": "4d8ab03f-cac6-497f-89a0-b0f9c42fda7e",
   "metadata": {},
   "source": [
    "# Calculate RT60, C50"
   ]
  },
  {
   "cell_type": "code",
   "execution_count": null,
   "id": "722ffbc8-9f10-4438-8147-6a84bf96db3d",
   "metadata": {},
   "outputs": [],
   "source": []
  }
 ],
 "metadata": {
  "kernelspec": {
   "display_name": "Python 3 (ipykernel)",
   "language": "python",
   "name": "python3"
  },
  "language_info": {
   "codemirror_mode": {
    "name": "ipython",
    "version": 3
   },
   "file_extension": ".py",
   "mimetype": "text/x-python",
   "name": "python",
   "nbconvert_exporter": "python",
   "pygments_lexer": "ipython3",
   "version": "3.10.14"
  }
 },
 "nbformat": 4,
 "nbformat_minor": 5
}
